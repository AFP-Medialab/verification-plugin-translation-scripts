{
 "cells": [
  {
   "cell_type": "code",
   "metadata": {},
   "source": [
    "import requests\n",
    "import os\n",
    "import json\n",
    "import pathlib"
   ],
   "outputs": [],
   "execution_count": null
  },
  {
   "cell_type": "markdown",
   "metadata": {},
   "source": [
    "Load InvidTranslation file content from project repository\n",
    "i18nlanguages.tsv to be excluded from the list"
   ]
  },
  {
   "cell_type": "code",
   "metadata": {},
   "source": "invid_translation_project_path=\"insert_translation_repo_path_here\"",
   "outputs": [],
   "execution_count": null
  },
  {
   "cell_type": "code",
   "metadata": {},
   "source": [
    "path = []\n",
    "for p in pathlib.Path(invid_translation_project_path).rglob('*.tsv'):\n",
    "    temp_path = \"{}/{}\".format(p.parent, p.stem)\n",
    "    if(p.stem == \"i18nlanguages\"): \n",
    "        continue\n",
    "    path.append(temp_path[len(invid_translation_project_path):])\n",
    "#extract = path[:5]\n",
    "extract = path\n",
    "extract"
   ],
   "outputs": [],
   "execution_count": null
  },
  {
   "cell_type": "markdown",
   "metadata": {},
   "source": [
    "Create content from language list"
   ]
  },
  {
   "cell_type": "code",
   "metadata": {},
   "source": [
    "lang_list = [\"en\", \"ar\"]\n",
    "TARGET_PROJECT_HOME = \"insert_verification_plugin_path_here\"\n",
    "target_write = TARGET_PROJECT_HOME+\"public/locales\"\n",
    "service_url = \"insert_remote_translation_url_here\"\n",
    "tag = \"insert_translation_tag_here\"\n",
    "write_to_file = True\n",
    "print (target_write)"
   ],
   "outputs": [],
   "execution_count": null
  },
  {
   "cell_type": "code",
   "metadata": {},
   "source": [
    "for lang in lang_list:\n",
    "    for ns in path:\n",
    "        url = \"{}{}.tsv?tag={}&lang={}\".format(service_url, ns, tag, lang)\n",
    "        print(url)\n",
    "        response = requests.get(url)\n",
    "        print(response)\n",
    "        if(response.status_code != 200):\n",
    "            print(\"error with ns {} lang {}\".format(ns, lang))\n",
    "            continue\n",
    "        content = response.json()\n",
    "        #print(content)\n",
    "        if write_to_file :    \n",
    "            locales_path = \"{}/{}{}.json\".format(target_write, lang, ns)    \n",
    "            json_path = pathlib.Path(locales_path)\n",
    "            parent_folder = json_path.parent\n",
    "            parent_folder.mkdir(parents=True, exist_ok=True)\n",
    "            json_path.write_text(json.dumps(content))\n",
    "        "
   ],
   "outputs": [],
   "execution_count": null
  },
  {
   "metadata": {},
   "cell_type": "code",
   "source": "",
   "outputs": [],
   "execution_count": null
  }
 ],
 "metadata": {
  "kernelspec": {
   "display_name": "Python 3",
   "language": "python",
   "name": "python3"
  },
  "language_info": {
   "codemirror_mode": {
    "name": "ipython",
    "version": 3
   },
   "file_extension": ".py",
   "mimetype": "text/x-python",
   "name": "python",
   "nbconvert_exporter": "python",
   "pygments_lexer": "ipython3",
   "version": "3.9.13"
  }
 },
 "nbformat": 4,
 "nbformat_minor": 2
}
